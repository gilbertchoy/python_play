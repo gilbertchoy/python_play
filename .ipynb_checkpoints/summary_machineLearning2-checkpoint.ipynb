{
 "cells": [
  {
   "cell_type": "code",
   "execution_count": 32,
   "metadata": {},
   "outputs": [],
   "source": [
    "import pandas as pd\n",
    "import numpy as np\n",
    "pd.options.display.max_columns = 9999\n",
    "pd.options.display.max_rows = 8\n",
    "from sklearn.impute import SimpleImputer"
   ]
  },
  {
   "cell_type": "code",
   "execution_count": 40,
   "metadata": {},
   "outputs": [],
   "source": [
    "df = pd.DataFrame({'col1': [2,4,1,5,6], \n",
    "                  'col2': [3,np.NaN,4,np.NaN,6],\n",
    "                    'col3': [3,6,4,6,2]})"
   ]
  },
  {
   "cell_type": "code",
   "execution_count": 28,
   "metadata": {},
   "outputs": [],
   "source": [
    "#Three ways to fix missing values:\n",
    "#1.drop column\n",
    "df1 = df.drop(['col2'], axis=1)\n",
    "#2.fill NaN fields with average\n",
    "df2['col2'] = df2['col2'].fillna(df2['col2'].mean())\n",
    "#or\n",
    "my_imputer = SimpleImputer()\n",
    "df4 = pd.DataFrame(my_imputer.fit_transform(df)) #imputer puts mean values in NaN and removes column names\n",
    "df4.columns = df.columns #put column names back in\n",
    "df4\n",
    "#3.(BEST) fill NaN fields with average and create column for where row used to have a NaN value\n",
    "dfcopy = df\n",
    "cols_with_missing = [col for col in dfcopy.columns\n",
    "                     if dfcopy[col].isnull().any()] #create array of columns with any missing value\n",
    "for col in cols_with_missing:\n",
    "    dfcopy[col + '_was_missing'] = dfcopy[col].isnull() #create new columns \n",
    "my_imputer = SimpleImputer()\n",
    "df5 = pd.DataFrame(my_imputer.fit_transform(df))\n",
    "df5.columns = dfcopy.columns #put column names back in\n",
    "df5"
   ]
  },
  {
   "cell_type": "code",
   "execution_count": null,
   "metadata": {},
   "outputs": [],
   "source": []
  },
  {
   "cell_type": "code",
   "execution_count": null,
   "metadata": {},
   "outputs": [],
   "source": []
  },
  {
   "cell_type": "code",
   "execution_count": null,
   "metadata": {},
   "outputs": [],
   "source": []
  }
 ],
 "metadata": {
  "kernelspec": {
   "display_name": "Python 3",
   "language": "python",
   "name": "python3"
  },
  "language_info": {
   "codemirror_mode": {
    "name": "ipython",
    "version": 3
   },
   "file_extension": ".py",
   "mimetype": "text/x-python",
   "name": "python",
   "nbconvert_exporter": "python",
   "pygments_lexer": "ipython3",
   "version": "3.7.4"
  }
 },
 "nbformat": 4,
 "nbformat_minor": 2
}
