{
 "cells": [
  {
   "cell_type": "code",
   "execution_count": 9,
   "metadata": {},
   "outputs": [],
   "source": [
    "import pandas as pd\n",
    "import numpy as np\n",
    "pd.options.display.max_columns = 9999\n",
    "pd.options.display.max_rows = 8"
   ]
  },
  {
   "cell_type": "code",
   "execution_count": 27,
   "metadata": {},
   "outputs": [],
   "source": [
    "df = pd.DataFrame({'col1': [2,4,1,5,6], \n",
    "                  'col2': [3,np.NaN,4,np.NaN,6],\n",
    "                    'col3': [3,6,4,6,2]})"
   ]
  },
  {
   "cell_type": "code",
   "execution_count": 28,
   "metadata": {},
   "outputs": [],
   "source": [
    "#Three ways to fix missing values:\n",
    "#1.drop column\n",
    "df1 = df.drop(['col2'], axis=1)\n",
    "#2.fill NaN fields with average\n",
    "df2['col2'] = df2['col2'].fillna(df2['col2'].mean())\n",
    "#3.(BEST) fill NaN fields with average and create column for where row used to have a NaN value\n",
    "def new_col_nan(row):\n",
    "    if pd.isnull(row['col2']):\n",
    "        row['col4'] = 1\n",
    "    else:\n",
    "        row['col4'] = 0\n",
    "    return row\n",
    "df3 = df.apply(new_col_nan, axis='columns')\n",
    "df3['col2'] = df3['col2'].fillna(df3['col2'].mean())"
   ]
  },
  {
   "cell_type": "code",
   "execution_count": null,
   "metadata": {},
   "outputs": [],
   "source": []
  },
  {
   "cell_type": "code",
   "execution_count": null,
   "metadata": {},
   "outputs": [],
   "source": []
  },
  {
   "cell_type": "code",
   "execution_count": null,
   "metadata": {},
   "outputs": [],
   "source": []
  },
  {
   "cell_type": "code",
   "execution_count": null,
   "metadata": {},
   "outputs": [],
   "source": []
  },
  {
   "cell_type": "code",
   "execution_count": null,
   "metadata": {},
   "outputs": [],
   "source": []
  }
 ],
 "metadata": {
  "kernelspec": {
   "display_name": "Python 3",
   "language": "python",
   "name": "python3"
  },
  "language_info": {
   "codemirror_mode": {
    "name": "ipython",
    "version": 3
   },
   "file_extension": ".py",
   "mimetype": "text/x-python",
   "name": "python",
   "nbconvert_exporter": "python",
   "pygments_lexer": "ipython3",
   "version": "3.7.4"
  }
 },
 "nbformat": 4,
 "nbformat_minor": 2
}
